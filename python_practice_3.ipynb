{
  "nbformat": 4,
  "nbformat_minor": 0,
  "metadata": {
    "colab": {
      "provenance": []
    },
    "kernelspec": {
      "name": "python3",
      "language": "python",
      "display_name": "Python 3 (ipykernel)"
    },
    "language_info": {
      "name": "python"
    }
  },
  "cells": [
    {
      "cell_type": "markdown",
      "source": [
        "# I. Оператори порівняння та логічні оператори. Умови."
      ],
      "metadata": {
        "id": "qDEi2Pi-4yUC"
      }
    },
    {
      "cell_type": "markdown",
      "source": [
        "1. (5б) Створіть цілочисленну змінну зі своїм щасливим або улюбленим числом. Напишіть код, який би автоматизовував наступну задачу.\n",
        "\n",
        "Якщо число парне, помножте його на 2 та виведіть результат на екран.\n",
        "\n",
        "Але якщо число непарне, помножте його на 3 та додайте 1 і виведіть на екран."
      ],
      "metadata": {
        "id": "3v8D4Dkm43Ua"
      }
    },
    {
      "cell_type": "code",
      "execution_count": null,
      "metadata": {
        "id": "dlVjc-Nu4bmb",
        "ExecuteTime": {
          "end_time": "2025-02-26T14:39:39.477076800Z",
          "start_time": "2025-02-26T14:39:39.425996Z"
        },
        "outputId": "00baf069-559a-41f8-fffe-14d42b8d9d98"
      },
      "outputs": [
        {
          "name": "stdout",
          "output_type": "stream",
          "text": [
            "8\n"
          ]
        }
      ],
      "source": [
        "fav_number = 93\n",
        "if (fav_number % 2):\n",
        "    print(fav_number * 3 + 1)\n",
        "else:\n",
        "    print(fav_number * 2)\n"
      ]
    },
    {
      "cell_type": "markdown",
      "source": [
        "2. (9б) Створіть змінну, що посилається на список. Якщо список пустий, додайте будь-який елемент у кінець списку. Якщо ж ні, то нічого не робіть."
      ],
      "metadata": {
        "id": "H669P0QK5BI_"
      }
    },
    {
      "cell_type": "code",
      "source": [
        "ar = [\"my\", \"name\", \"is\"]\n",
        "if (len(ar) > 0):\n",
        "    ar.append(\"Stanislav\")"
      ],
      "metadata": {
        "id": "ecWlfra45f6E",
        "ExecuteTime": {
          "end_time": "2025-02-26T14:41:22.699917300Z",
          "start_time": "2025-02-26T14:41:22.683310700Z"
        },
        "outputId": "f688d895-4adc-412f-86ac-5c4f15de0266"
      },
      "execution_count": null,
      "outputs": [
        {
          "data": {
            "text/plain": "['my', 'name', 'is', 'Stanislav']"
          },
          "execution_count": 6,
          "metadata": {},
          "output_type": "execute_result"
        }
      ]
    },
    {
      "cell_type": "markdown",
      "source": [
        "3. (13б) Створіть рядок зі своїм імʼям латинкою. Напишіть код, який би автоматизовував наступну задачу.\n",
        "\n",
        "Якщо в імені є літера \"а\" або \"i\", Виведіть на екран повідомлення \"A or I is in the name\".\n",
        "\n",
        "\n",
        "\n",
        "Якщо в імені є літери \"o\" та \"n\", Виведіть на екран повідомлення \"O and N is in the name\".\n",
        "\n",
        "Також якщо в імені немає літери \"о\", але є \"n\", Виведіть на екран повідомлення \"Only N is in the name\".\n",
        "\n",
        "В решті випадків виведіть на екран повідомлення \"There is no N in the name, but there might be O\".\n",
        "\n",
        "Зверніть увагу, що, наприклад, для імені \"Antonina\" буде виведено два повідомлення."
      ],
      "metadata": {
        "id": "h9Y3cMUd5h85"
      }
    },
    {
      "cell_type": "code",
      "source": [
        "my_name = \"Stanislav\"\n",
        "\n",
        "name = my_name.lower()\n",
        "if(\"a\" in name or \"i\" in name):\n",
        "    print(\"A or I is in the name\")\n",
        "if(\"o\" in name and \"n\" in name):\n",
        "    print(\"O and N is in the name\")\n",
        "elif (\"n\" in name):\n",
        "    print(\"Only N is in the name\")\n",
        "else:\n",
        "    print(\"There is no N in the name, but there might be O\")"
      ],
      "metadata": {
        "id": "bUH4LUx35u52",
        "ExecuteTime": {
          "end_time": "2025-02-26T14:48:26.682981Z",
          "start_time": "2025-02-26T14:48:26.670157700Z"
        },
        "outputId": "92f9d99e-3379-47f5-8848-1f092d695676",
        "colab": {
          "base_uri": "https://localhost:8080/"
        }
      },
      "execution_count": null,
      "outputs": [
        {
          "output_type": "stream",
          "name": "stdout",
          "text": [
            "A or I is in the name\n",
            "Only N is in the name\n"
          ]
        }
      ]
    },
    {
      "cell_type": "markdown",
      "source": [
        "# II. Comprehensions."
      ],
      "metadata": {
        "id": "wPCXJv4354cU"
      }
    },
    {
      "cell_type": "markdown",
      "source": [
        "4. (5б) Створіть список, використовуючи if (не if-else), range та comprehension."
      ],
      "metadata": {
        "id": "jULLW5jN55Pw"
      }
    },
    {
      "cell_type": "code",
      "source": [
        "[x for x in range(15) if x % 3 == 0]"
      ],
      "metadata": {
        "id": "mlZalnVC6W3F",
        "ExecuteTime": {
          "end_time": "2025-02-26T14:50:11.968234100Z",
          "start_time": "2025-02-26T14:50:11.940448700Z"
        },
        "outputId": "4dcceb52-84bc-40ec-8bc3-17820bf6b381"
      },
      "execution_count": null,
      "outputs": [
        {
          "data": {
            "text/plain": "[0, 3, 6, 9, 12]"
          },
          "execution_count": 14,
          "metadata": {},
          "output_type": "execute_result"
        }
      ]
    },
    {
      "cell_type": "markdown",
      "source": [
        "5. (9б) Створіть словник, використовуючи dict comprehension, що містить if else. Коли слід використовувати comprehensions, а коли їх слід уникати?"
      ],
      "metadata": {
        "id": "LqhEQ4JW6XcC"
      }
    },
    {
      "cell_type": "code",
      "source": [
        "{x: 2 ** x for x in range(15) if x % 2 == 0}"
      ],
      "metadata": {
        "id": "1yVaFbOs6hta",
        "colab": {
          "base_uri": "https://localhost:8080/"
        },
        "outputId": "544a4d24-1d4e-4441-ddab-49c9fa47c2ef"
      },
      "execution_count": null,
      "outputs": [
        {
          "output_type": "execute_result",
          "data": {
            "text/plain": [
              "{0: 1, 2: 4, 4: 16, 6: 64, 8: 256, 10: 1024, 12: 4096, 14: 16384}"
            ]
          },
          "metadata": {},
          "execution_count": 1
        }
      ]
    },
    {
      "cell_type": "markdown",
      "source": [
        "Слід використовувати comprehensions, коли для заповнення об'єкту ми маємо пройтися по циклу, або ж коли значення кожного елемента напряму залежить від його індексу. УНикати слід, коли через них код стає менш читабельним."
      ],
      "metadata": {
        "id": "wbkzNhKq6hzz"
      }
    },
    {
      "cell_type": "markdown",
      "source": [
        "6. (9б) Створіть список з рядками та запишіть його у змінну. Створіть ще один список на основі попереднього, де кожен рядок буде містити тільки три перших заглавних символи. Наприклад: ['hello', 'i', 'dont', 'care'] -> ['HEL', 'I', 'DON', 'CAR']. Використання comprehensions обовʼязкове."
      ],
      "metadata": {
        "id": "ZlqB8G3G6lHP"
      }
    },
    {
      "cell_type": "code",
      "source": [
        "list = ['hello', 'i', 'dont', 'care']\n",
        "new_list = [x.upper()[0:3] for x in list]\n",
        "new_list"
      ],
      "metadata": {
        "id": "nw6rz0bR60VC",
        "ExecuteTime": {
          "end_time": "2025-02-26T14:51:43.850302300Z",
          "start_time": "2025-02-26T14:51:43.824488900Z"
        },
        "outputId": "753a8617-6a93-42e9-a3b6-f038b1c03f1f"
      },
      "execution_count": null,
      "outputs": [
        {
          "data": {
            "text/plain": "['HEL', 'I', 'DON', 'CAR']"
          },
          "execution_count": 17,
          "metadata": {},
          "output_type": "execute_result"
        }
      ]
    },
    {
      "cell_type": "markdown",
      "source": [
        "# III. Цикли."
      ],
      "metadata": {
        "id": "Tj573IAH64Fz"
      }
    },
    {
      "cell_type": "markdown",
      "source": [
        "7. (5б) Продемонструйте роботу циклу while. Не можна використовувати True для запуску циклу, щоб уникнути безкінечного циклу!"
      ],
      "metadata": {
        "id": "tN_33xdE65H5"
      }
    },
    {
      "cell_type": "code",
      "source": [
        "a = 0\n",
        "while (a < 10):\n",
        "    print(a)\n",
        "    a = a + 2"
      ],
      "metadata": {
        "id": "Kd9FO6yG63P5",
        "ExecuteTime": {
          "end_time": "2025-02-26T14:52:59.287161500Z",
          "start_time": "2025-02-26T14:52:59.275612200Z"
        },
        "outputId": "1cd61fd6-02df-4197-ca70-5ac7118d04ad"
      },
      "execution_count": null,
      "outputs": [
        {
          "name": "stdout",
          "output_type": "stream",
          "text": [
            "0\n",
            "2\n",
            "4\n",
            "6\n",
            "8\n"
          ]
        }
      ]
    },
    {
      "cell_type": "markdown",
      "source": [
        "8. (5б) Напишіть програму, яка виведе на екран непарні числа в діапазоні від 0 до 20 включно."
      ],
      "metadata": {
        "id": "x2CmfZO-7pW0"
      }
    },
    {
      "cell_type": "code",
      "source": [
        "for i in [i for i in range(20) if (i % 2 == 1)]:\n",
        "    print(i)"
      ],
      "metadata": {
        "id": "aCSRYA6s7tkF",
        "ExecuteTime": {
          "end_time": "2025-02-26T14:55:04.668302200Z",
          "start_time": "2025-02-26T14:55:04.642247300Z"
        },
        "outputId": "9df9ee93-abe5-4cee-a7ef-f8a8b2e852b1"
      },
      "execution_count": null,
      "outputs": [
        {
          "name": "stdout",
          "output_type": "stream",
          "text": [
            "1\n",
            "3\n",
            "5\n",
            "7\n",
            "9\n",
            "11\n",
            "13\n",
            "15\n",
            "17\n",
            "19\n"
          ]
        }
      ]
    },
    {
      "cell_type": "markdown",
      "source": [
        "9. (13б) Створіть список з елементами булевого типу або None. Використовуючи цикли, отримайте в результаті список з кортежами, де перший елемент кортежу - індекс(ціле число), а другий елемент - відповідне значення з першого списку.\n",
        "\n",
        "Наприклад, [True, True, None, False] -> [(0, True), (1, True), (2, None), (3, False)]"
      ],
      "metadata": {
        "id": "MDWNocZD7t_B"
      }
    },
    {
      "cell_type": "code",
      "source": [
        "list = [True, True, None, False]\n",
        "[(x, list[x]) for x in range(len(list))]"
      ],
      "metadata": {
        "id": "0EUyjMdp7yfh",
        "ExecuteTime": {
          "end_time": "2025-02-26T14:56:41.021138Z",
          "start_time": "2025-02-26T14:56:40.995113500Z"
        },
        "outputId": "b1923f5f-6ceb-4817-ae87-db582eeebb69"
      },
      "execution_count": null,
      "outputs": [
        {
          "data": {
            "text/plain": "[(0, True), (1, True), (2, None), (3, False)]"
          },
          "execution_count": 22,
          "metadata": {},
          "output_type": "execute_result"
        }
      ]
    },
    {
      "cell_type": "markdown",
      "source": [
        "10. (9б) Створіть словник, де ключі - назви книжок, а значення - їхня кількість у наявності в Вашій міні-бібліотеці. Бібліотека має містити щонайменше 6 книжок (6 пар значень у словнику) і щонайбільше 10 (пар значень). Використовуючи цикли, оновіть словник (не створюйте новий) так, щоби кількість книг у наявності збільшилося на 5 кожної книги. Наприклад,\n",
        "{'It': 3, 'Fault stars': 10, 'Bible': 17, 'Psychological romance': 4, 'Harry Potter': 13} -> {'It': 8, 'Fault stars': 15, 'Bible': 22, 'Psychological romance': 9, 'Harry Potter': 18}"
      ],
      "metadata": {
        "id": "-6XUqlcG7zKs"
      }
    },
    {
      "cell_type": "code",
      "source": [
        "dict = {'Never Eat Alone': 3, 'Beach Read': 10, 'Red, White, & Royal Blue': 17, 'The Best Day of My Life': 4, 'Behind the Curtains of an Empire': 13, \"Clouds\": 5}\n",
        "for i in dict.keys():\n",
        "  dict[i] = dict[i]+5\n",
        "dict"
      ],
      "metadata": {
        "id": "Ceoj9wwb791q",
        "colab": {
          "base_uri": "https://localhost:8080/"
        },
        "outputId": "24a0615b-398c-422a-8875-8bece2643e2c"
      },
      "execution_count": null,
      "outputs": [
        {
          "output_type": "execute_result",
          "data": {
            "text/plain": [
              "{'Never Eat Alone': 8,\n",
              " 'Beach Read': 15,\n",
              " 'Red, White, & Royal Blue': 22,\n",
              " 'The Best Day of My Life': 9,\n",
              " 'Behind the Curtains of an Empire': 18,\n",
              " 'Clouds': 10}"
            ]
          },
          "metadata": {},
          "execution_count": 4
        }
      ]
    },
    {
      "cell_type": "markdown",
      "source": [
        "11. (5б) Визначте цілочислену змінну n, що належить проміжку від 4 до 10 включно. Використовуючи цикли, виведіть в консоль наступний патерн.\n",
        "\n",
        "#\n",
        "##\n",
        "###\n",
        "####\n",
        "\n",
        "... #*n\n"
      ],
      "metadata": {
        "id": "QLzyJM288AC7"
      }
    },
    {
      "cell_type": "code",
      "source": [
        "n = 8\n",
        "\n",
        "i = 1\n",
        "while (i <= n):\n",
        "        print(\"#\"*i)\n",
        "        i = i + 1\n"
      ],
      "metadata": {
        "id": "KOpng87s8Duz",
        "ExecuteTime": {
          "end_time": "2025-02-26T14:59:04.325728100Z",
          "start_time": "2025-02-26T14:59:04.304200300Z"
        },
        "outputId": "92baa44a-b748-4901-b909-32eae976945e"
      },
      "execution_count": null,
      "outputs": [
        {
          "name": "stdout",
          "output_type": "stream",
          "text": [
            "#\n",
            "##\n",
            "###\n",
            "####\n",
            "#####\n",
            "######\n",
            "#######\n",
            "########\n"
          ]
        }
      ]
    },
    {
      "cell_type": "markdown",
      "source": [
        "12. (13б) Гра \"Нумо вгадай\".\n",
        "Розробіть просту гру, де користувач має вгадати випадкове число від 1 до 100. Для генерації випадкового числа використовуйте функцію random.randint(a, b) (тут a та b включно). Для отримання числа з консолі використовуйте функцію input(), результат якої обовʼязково явно приведіть до типу int.\n",
        "\n",
        "Підказка: використовуйте цикл while та умови if-else, щоб повідомити користувачу піказки (напр. \"Більше\", \"Менше\") поки користувач не вгадає. По завершенню виведіть кількість спроб, які знадобилися для вгадування."
      ],
      "metadata": {
        "id": "_bd-bqAT8EHn"
      }
    },
    {
      "cell_type": "code",
      "source": [
        "import random\n",
        "\n",
        "is_guess_correct = False\n",
        "correct = random.randint(0, 100)\n",
        "\n",
        "while not is_guess_correct:\n",
        "    input_str = input()\n",
        "    user_guess = int(input_str)\n",
        "    if user_guess > correct:\n",
        "        print(\"Забагато\")\n",
        "    elif user_guess < correct:\n",
        "        print(\"Побільше\")\n",
        "    else:\n",
        "        is_guess_correct = True\n",
        "        print(\"Правильно!\")"
      ],
      "metadata": {
        "id": "IK9nnxFK8Hkl",
        "ExecuteTime": {
          "end_time": "2025-02-26T15:11:34.665626500Z",
          "start_time": "2025-02-26T15:11:19.114135500Z"
        },
        "colab": {
          "base_uri": "https://localhost:8080/"
        },
        "outputId": "2e0544e4-7827-4aa3-c465-a0de7b879711"
      },
      "execution_count": null,
      "outputs": [
        {
          "output_type": "stream",
          "name": "stdout",
          "text": [
            "35\n",
            "Побільше\n",
            "70\n",
            "Побільше\n",
            "90\n",
            "Побільше\n",
            "96\n",
            "Забагато\n",
            "94\n",
            "Забагато\n",
            "92\n",
            "Забагато\n",
            "91\n",
            "Правильно!\n"
          ]
        }
      ]
    },
    {
      "cell_type": "markdown",
      "source": [
        "# Вітаю! Ви велика(ий) молодець, що впоралась(вся). Похваліть себе та побалуйте чимось приємним. Я Вами пишаюся."
      ],
      "metadata": {
        "id": "PXoXWb7Z8IGi"
      }
    }
  ]
}