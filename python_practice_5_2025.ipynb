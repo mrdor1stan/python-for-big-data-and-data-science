{
 "nbformat": 4,
 "nbformat_minor": 0,
 "metadata": {
  "colab": {
   "provenance": []
  },
  "kernelspec": {
   "name": "python3",
   "language": "python",
   "display_name": "Python 3 (ipykernel)"
  },
  "language_info": {
   "name": "python"
  }
 },
 "cells": [
  {
   "cell_type": "markdown",
   "source": [
    "# I. OOP"
   ],
   "metadata": {
    "id": "5qV_sehzFCTp"
   }
  },
  {
   "cell_type": "markdown",
   "source": [
    "1. (6б). Створіть клас Building, додайте три атрибути, один з яких має значення за замовчуванням та два методи на свій розсуд."
   ],
   "metadata": {
    "id": "tx_U_hOALyfg"
   }
  },
  {
   "cell_type": "code",
   "source": [
    "class Building:\n",
    "    def __init__(self, address, rooms, storeys=1):\n",
    "        self.address = address\n",
    "        self.rooms = rooms\n",
    "        self.storeys = storeys\n",
    "\n",
    "    def __str__(self):\n",
    "        return f\"Building with {self.rooms} rooms and {self.storeys} storeys, located at {self.address}\"\n",
    "\n",
    "    def move(self, address):\n",
    "        self.address = address\n",
    "\n",
    "    def increase_rooms(self):\n",
    "        self.rooms = self.rooms + 1"
   ],
   "metadata": {
    "id": "-Vf895KaL88N"
   },
   "execution_count": null,
   "outputs": []
  },
  {
   "cell_type": "markdown",
   "source": [
    "2. (2б). Створіть два обʼєкти цього класу, де один з обʼєктів створюється із дефолтним значенням атрибуту. На одному обʼєкті отримайте значення його атрибуту, а на іншому викличте один з його методів."
   ],
   "metadata": {
    "id": "X_UlOMB0L93w"
   }
  },
  {
   "cell_type": "code",
   "source": [
    "b1 = Building(\"vul. Kropyvnytskoho, 35a\", 3)\n",
    "b2 = Building(\"vul. Kropyvnytskoho, 42\", 13, 3)\n",
    "\n",
    "b1.storeys\n",
    "b2.move(\"bul. Lesi Ukrainky, 168\")"
   ],
   "metadata": {
    "id": "7gBu0ESOMCpG"
   },
   "execution_count": null,
   "outputs": []
  },
  {
   "cell_type": "markdown",
   "source": [
    "3. (5б). Створіть клас, де атрибути мають різні рівні доступу. Спробуйте отримати їхні значення та опишіть результати."
   ],
   "metadata": {
    "id": "HoqSCZt1MHn5"
   }
  },
  {
   "cell_type": "code",
   "execution_count": null,
   "outputs": [],
   "source": [
    "class ExampleClass:\n",
    "    def __init__(self):\n",
    "        self.__private = \"private\"\n",
    "        self.public = \"public\"\n",
    "\n",
    "\n",
    "a = ExampleClass()\n",
    "a.public\n",
    "a.__private"
   ],
   "metadata": {
    "collapsed": false
   }
  },
  {
   "cell_type": "markdown",
   "source": [
    "AttributeError: 'ExampleClass' object has no attribute '__private'"
   ],
   "metadata": {
    "collapsed": false
   }
  },
  {
   "cell_type": "markdown",
   "source": [
    "4. (7б). Як ви розумієте термін self? Для чого використовується метод __init __?"
   ],
   "metadata": {
    "id": "5op2m2vgMSkZ"
   }
  },
  {
   "cell_type": "markdown",
   "source": [
    "Self посилається на конкретний інтанс класу, на якому викликано метод. Метод __init__ використовується для ініціалізації значень при виклику конструктора"
   ],
   "metadata": {
    "id": "DyiPqNRvMasx"
   }
  },
  {
   "cell_type": "markdown",
   "source": [
    "5. (9б). Створіть клас 3D-фігура без атрибутів, з методом get_volume для отримання об'єму фігури, що повертає 0 та __add __, який приймає self та other в якості аргументів, а повертає суму об'ємів 3d-фігур self та other."
   ],
   "metadata": {
    "id": "-6X8EGfjMd2y"
   }
  },
  {
   "cell_type": "code",
   "source": [
    "class Figure3D:\n",
    "    def get_volume(self):\n",
    "        return 0\n",
    "\n",
    "    def __add__(self, other):\n",
    "        return self.get_volume() + other.get_volume()"
   ],
   "metadata": {
    "id": "4rvO_wYUMaEr"
   },
   "execution_count": null,
   "outputs": []
  },
  {
   "cell_type": "markdown",
   "source": [
    "6. (11б). Створіть 2 дочірніх класи від 3d-фігура: Циліндр та Куб, які мають атрибути, необхідні для розрахунку об'єму. Визначте метод get_volume в кожному з них так, щоби вони розраховували об'єм у залежності від формули для кожного типу фігури. Створіть обʼєкт класу Циліндр та обʼєкт класу Куб. Виконайте операцію суми за допомогою оператора + між ними, аби знайти сумарний об'єм."
   ],
   "metadata": {
    "id": "SFcKnnv5Mo_z"
   }
  },
  {
   "cell_type": "code",
   "source": [
    "import math\n",
    "\n",
    "\n",
    "class Figure3D:\n",
    "    def get_volume(self):\n",
    "        return 0\n",
    "\n",
    "    def __add__(self, other):\n",
    "        return self.get_volume() + other.get_volume()\n",
    "\n",
    "\n",
    "class Cylinder(Figure3D):\n",
    "    def __init__(self, radius, height):\n",
    "        self.radius = radius\n",
    "        self.height = height\n",
    "\n",
    "    def get_volume(self):\n",
    "        return math.pi * self.radius ** 2 * self.height\n",
    "\n",
    "\n",
    "class Cube(Figure3D):\n",
    "    def __init__(self, side):\n",
    "        self.side = side\n",
    "\n",
    "    def get_volume(self):\n",
    "        return self.side ** 3\n",
    "\n",
    "\n",
    "volume = Cylinder(5, 4) + Cube(6)\n",
    "volume"
   ],
   "metadata": {
    "id": "H3GVNr69Muf3",
    "ExecuteTime": {
     "end_time": "2025-03-18T10:13:44.793208300Z",
     "start_time": "2025-03-18T10:13:44.571859Z"
    }
   },
   "execution_count": 9,
   "outputs": [
    {
     "data": {
      "text/plain": "530.1592653589794"
     },
     "execution_count": 9,
     "metadata": {},
     "output_type": "execute_result"
    }
   ]
  },
  {
   "cell_type": "markdown",
   "source": [
    "7. (3б). Продемонструйте різницю між isinstance та issubclass."
   ],
   "metadata": {
    "id": "HCvR206YMvLK"
   }
  },
  {
   "cell_type": "code",
   "source": [
    "issubclass(bool, int)\n",
    "isinstance(True, int)\n"
   ],
   "metadata": {
    "id": "L_V1bBvDM0GN",
    "ExecuteTime": {
     "end_time": "2025-03-18T10:17:46.265566400Z",
     "start_time": "2025-03-18T10:17:46.100012600Z"
    }
   },
   "execution_count": 15,
   "outputs": [
    {
     "data": {
      "text/plain": "True"
     },
     "execution_count": 15,
     "metadata": {},
     "output_type": "execute_result"
    }
   ]
  },
  {
   "cell_type": "markdown",
   "source": [
    "8. (13б). Створіть клас EWallet з приватними атрибутами balance та id. Реалізуйте методи поповнення та зняття коштів, забезпечивши належну інкапсуляцію. Підказка: використовуйте декоратори property та setter."
   ],
   "metadata": {
    "id": "jjsaBZ-iM0Qq"
   }
  },
  {
   "cell_type": "code",
   "source": [
    "from numbers import Number\n",
    "\n",
    "\n",
    "class EWallet:\n",
    "\n",
    "    def __init__(self, account_id, balance):\n",
    "        self._balance = balance\n",
    "        self._account_id = account_id\n",
    "\n",
    "    @property\n",
    "    def account_id(self):\n",
    "        return self._account_id\n",
    "\n",
    "    @property\n",
    "    def balance(self):\n",
    "        return self._balance\n",
    "\n",
    "    @balance.setter\n",
    "    def balance(self, amount):\n",
    "        if isinstance(amount, Number):\n",
    "            self._balance = amount\n",
    "        else:\n",
    "            print(\"Please enter a valid amount\")\n",
    "            \n",
    "    def top_up(self, amount):\n",
    "        self.balance += amount\n",
    "    \n",
    "    def withdraw(self, amount):\n",
    "        self.balance -= amount\n",
    "            \n",
    "wallet = EWallet(3, 45.98)\n",
    "print(wallet.balance)\n",
    "wallet.top_up(3)\n",
    "print(wallet.balance)\n",
    "wallet.withdraw(40)\n",
    "print(wallet.balance)"
   ],
   "metadata": {
    "id": "xCvZ7lh8M7YA",
    "ExecuteTime": {
     "end_time": "2025-03-18T10:31:49.714924600Z",
     "start_time": "2025-03-18T10:31:49.614795600Z"
    }
   },
   "execution_count": 17,
   "outputs": [
    {
     "name": "stdout",
     "output_type": "stream",
     "text": [
      "45.98\n",
      "48.98\n",
      "8.979999999999997\n"
     ]
    }
   ]
  },
  {
   "cell_type": "markdown",
   "source": [
    "9. (11б). Створіть клас ShoppingCart, який містить список об'єктів типу Item. Реалізуйте методи для додавання айтемів, їх видалення та відображення списку айтемів."
   ],
   "metadata": {
    "id": "tIzL2SJTM8ft"
   }
  },
  {
   "cell_type": "code",
   "source": [
    "class Item:\n",
    "    def __init__(self, name):\n",
    "        self.name = name\n",
    "    \n",
    "    def __str__(self):\n",
    "        return self.name\n",
    "\n",
    "class ShoppingCart:\n",
    "    def __init__(self):\n",
    "        self._cart = []\n",
    "    \n",
    "    @property\n",
    "    def cart(self):\n",
    "        return self._cart\n",
    "    \n",
    "    def add_item(self, item):\n",
    "        if isinstance(item, Item):\n",
    "            self.cart.append(item)\n",
    "        else:\n",
    "            print(\"Please provide an item\")\n",
    "    \n",
    "    def remove_item(self, item):\n",
    "        if item in self.cart:\n",
    "            self.cart.remove(item)\n",
    "        else:\n",
    "            print(\"No matching item in a cart\")\n",
    "            \n",
    "    def show(self):\n",
    "        print(\"Items in cart:\")\n",
    "        for item in self.cart:\n",
    "            print(item)\n",
    "            \n",
    "    \n",
    "cart = ShoppingCart()\n",
    "makarony_1 = Item(\"Makarony\")\n",
    "makarony_2 = Item(\"Makarony\")\n",
    "cheese = Item(\"Cheese\")\n",
    "cart.add_item(makarony_1)\n",
    "cart.add_item(makarony_2)\n",
    "cart.add_item(cheese)\n",
    "cart.show()\n",
    "cart.remove_item(makarony_2)\n",
    "cart.show()\n",
    "cart.remove_item(Item(\"Imaginary cheese\"))\n",
    "cart.add_item(47)"
   ],
   "metadata": {
    "id": "HWxfJKLtNAUZ",
    "ExecuteTime": {
     "end_time": "2025-03-18T10:54:24.927270Z",
     "start_time": "2025-03-18T10:54:24.820753Z"
    }
   },
   "execution_count": 22,
   "outputs": [
    {
     "name": "stdout",
     "output_type": "stream",
     "text": [
      "Items in cart:\n",
      "Makarony\n",
      "Makarony\n",
      "Cheese\n",
      "Items in cart:\n",
      "Makarony\n",
      "Cheese\n",
      "No matching item in a cart\n",
      "Please provide an item\n"
     ]
    }
   ]
  },
  {
   "cell_type": "markdown",
   "source": [
    "10. (13б). Створіть клас Vehicle з атрибутами brand (manufacturer) та production_age. Створіть ще один клас Engine з такими атрибутами, як type (ex. petrol) та size (volume, litres). Створіть клас Car, який успадковує обидва класи Vehicle та Engine. Продемонструйте використання множинної спадковості, створивши обʼєкт класу Car та отримавши mro для цього класу."
   ],
   "metadata": {
    "id": "lmV8pAwwNIqu"
   }
  },
  {
   "cell_type": "code",
   "source": [
    "class Vehicle:\n",
    "    def __init__(self, brand, production_age):\n",
    "        self.brand = brand\n",
    "        self.production_age = production_age\n",
    "        \n",
    "class Engine:\n",
    "    def __init__(self, volume = 30, type = 'petrol'):\n",
    "        self.type = type\n",
    "        self.volume = volume\n",
    "        \n",
    "class Car(Vehicle, Engine):\n",
    "    def __init__(self,  brand, production_age):\n",
    "        Vehicle.__init__(self, brand, production_age)\n",
    "        Engine.__init__(self, 60)\n",
    "        \n",
    "    def __str__(self):\n",
    "        return f\"{self.brand} car of {self.production_age} with {self.type} engine of {self.volume} litres\"\n",
    "    \n",
    "car = Car(\"Mitsubisi\", 15)\n",
    "print(car)\n",
    "print(Car.mro())"
   ],
   "metadata": {
    "id": "R49grKlWNPeN",
    "ExecuteTime": {
     "end_time": "2025-03-18T12:33:58.174846800Z",
     "start_time": "2025-03-18T12:33:58.150136100Z"
    }
   },
   "execution_count": 25,
   "outputs": [
    {
     "name": "stdout",
     "output_type": "stream",
     "text": [
      "Mitsubisi car of 15 with petrol engine of 60 litres\n",
      "[<class '__main__.Car'>, <class '__main__.Vehicle'>, <class '__main__.Engine'>, <class 'object'>]\n"
     ]
    }
   ]
  },
  {
   "cell_type": "markdown",
   "source": [
    "# II. Iterator"
   ],
   "metadata": {
    "id": "dIJyUiNBFG8G"
   }
  },
  {
   "cell_type": "markdown",
   "source": [
    "11. (4б). Визначте рядок(str) з 4ма різними за значенням символами. Створіть ітератор на основі цього рядка. Викличте 5 разів функцію next на ітераторі, 4ри перших з них огорніть у ф-цію print()."
   ],
   "metadata": {
    "id": "13vsm0NyKIzL"
   }
  },
  {
   "cell_type": "code",
   "source": [
    "string = \"abcd\"\n",
    "string_iter = iter(string)\n",
    "print(next(string_iter))\n",
    "print(next(string_iter))\n",
    "print(next(string_iter))\n",
    "print(next(string_iter))\n",
    "next(string_iter)"
   ],
   "metadata": {
    "id": "81ntabAkKuz-",
    "ExecuteTime": {
     "end_time": "2025-03-18T12:37:56.470127300Z",
     "start_time": "2025-03-18T12:37:56.421915300Z"
    }
   },
   "execution_count": 33,
   "outputs": [
    {
     "name": "stdout",
     "output_type": "stream",
     "text": [
      "a\n",
      "b\n",
      "c\n",
      "d\n"
     ]
    },
    {
     "ename": "StopIteration",
     "evalue": "",
     "output_type": "error",
     "traceback": [
      "\u001B[1;31m---------------------------------------------------------------------------\u001B[0m",
      "\u001B[1;31mStopIteration\u001B[0m                             Traceback (most recent call last)",
      "Cell \u001B[1;32mIn[33], line 7\u001B[0m\n\u001B[0;32m      5\u001B[0m \u001B[38;5;28mprint\u001B[39m(\u001B[38;5;28mnext\u001B[39m(string_iter))\n\u001B[0;32m      6\u001B[0m \u001B[38;5;28mprint\u001B[39m(\u001B[38;5;28mnext\u001B[39m(string_iter))\n\u001B[1;32m----> 7\u001B[0m \u001B[38;5;28;43mnext\u001B[39;49m\u001B[43m(\u001B[49m\u001B[43mstring_iter\u001B[49m\u001B[43m)\u001B[49m\n",
      "\u001B[1;31mStopIteration\u001B[0m: "
     ]
    }
   ]
  },
  {
   "cell_type": "markdown",
   "source": [
    "А що якщо викликати цю ж функцію на рядку?"
   ],
   "metadata": {
    "id": "aekWHGXOLRsO"
   }
  },
  {
   "cell_type": "code",
   "source": [
    "string = \"abcd\"\n",
    "string_iter = iter(string)\n",
    "print(next(string_iter))\n",
    "print(next(string_iter))\n",
    "print(next(string_iter))\n",
    "print(next(string_iter))\n",
    "print(next(string_iter))"
   ],
   "metadata": {
    "id": "mxATGsErLV1i",
    "ExecuteTime": {
     "end_time": "2025-03-18T12:38:15.528549900Z",
     "start_time": "2025-03-18T12:38:15.465009700Z"
    }
   },
   "execution_count": 34,
   "outputs": [
    {
     "name": "stdout",
     "output_type": "stream",
     "text": [
      "a\n",
      "b\n",
      "c\n",
      "d\n"
     ]
    },
    {
     "ename": "StopIteration",
     "evalue": "",
     "output_type": "error",
     "traceback": [
      "\u001B[1;31m---------------------------------------------------------------------------\u001B[0m",
      "\u001B[1;31mStopIteration\u001B[0m                             Traceback (most recent call last)",
      "Cell \u001B[1;32mIn[34], line 7\u001B[0m\n\u001B[0;32m      5\u001B[0m \u001B[38;5;28mprint\u001B[39m(\u001B[38;5;28mnext\u001B[39m(string_iter))\n\u001B[0;32m      6\u001B[0m \u001B[38;5;28mprint\u001B[39m(\u001B[38;5;28mnext\u001B[39m(string_iter))\n\u001B[1;32m----> 7\u001B[0m \u001B[38;5;28mprint\u001B[39m(\u001B[38;5;28;43mnext\u001B[39;49m\u001B[43m(\u001B[49m\u001B[43mstring_iter\u001B[49m\u001B[43m)\u001B[49m)\n",
      "\u001B[1;31mStopIteration\u001B[0m: "
     ]
    }
   ]
  },
  {
   "cell_type": "markdown",
   "source": [
    " 12. (5б). Опишіть своїми словами в одному реченні, як ви розумієте різницю між ітерабельними обʼєктами та ітераторами (можна на прикладі)."
   ],
   "metadata": {
    "id": "XwtMEopwJ4pH"
   }
  },
  {
   "cell_type": "markdown",
   "source": [
    "Ітератори взаємодіять з ітерабельними об'єктами коли ітеруються ними, без об'єкта ітератор не може існувати, тоді як ітерабельні об'єкти лише визначають для ітератора спосіб визначити наступний елемент та чи є наступний елемент, але спокійно можуть існувати без ітератора"
   ],
   "metadata": {
    "id": "-sHrODc3KFn8"
   }
  },
  {
   "cell_type": "markdown",
   "source": [
    "13. (11б). Створіть клас, що має визначений Iterator Protocol та при кожному виклику next повертає назву дня тижня, поки вони не вичерпаються. Зверніть увагу, що порядок має значення."
   ],
   "metadata": {
    "id": "E9qJWmNbK8Gl"
   }
  },
  {
   "cell_type": "code",
   "source": [
    "weekdays = [\"monday\", \"tuesday\", \"wednesday\", \"thursday\", \"friday\", \"saturday\", \"sunday\"]\n",
    "class Week:\n",
    "    pos = 0\n",
    "    \n",
    "    def __iter__(self):\n",
    "        return self\n",
    "    \n",
    "    def __next__(self):\n",
    "        if self.pos >= len(weekdays):\n",
    "            raise StopIteration\n",
    "        res = weekdays[self.pos]\n",
    "        self.pos += 1\n",
    "        return res\n",
    "\n",
    "w = Week()\n",
    "w_iter = iter(w)\n",
    "print(next(w_iter))\n",
    "print(next(w_iter))\n",
    "print(next(w_iter))\n",
    "print(next(w_iter))\n",
    "print(next(w_iter))\n",
    "print(next(w_iter))\n",
    "print(next(w_iter))"
   ],
   "metadata": {
    "id": "cqx-g_RsLo6I",
    "ExecuteTime": {
     "end_time": "2025-03-18T12:52:51.985760700Z",
     "start_time": "2025-03-18T12:52:51.946004700Z"
    }
   },
   "execution_count": 39,
   "outputs": [
    {
     "ename": "TypeError",
     "evalue": "'type' object is not iterable",
     "output_type": "error",
     "traceback": [
      "\u001B[1;31m---------------------------------------------------------------------------\u001B[0m",
      "\u001B[1;31mTypeError\u001B[0m                                 Traceback (most recent call last)",
      "Cell \u001B[1;32mIn[39], line 16\u001B[0m\n\u001B[0;32m     13\u001B[0m         \u001B[38;5;28;01mreturn\u001B[39;00m res\n\u001B[0;32m     15\u001B[0m w \u001B[38;5;241m=\u001B[39m Week\n\u001B[1;32m---> 16\u001B[0m w_iter \u001B[38;5;241m=\u001B[39m \u001B[38;5;28;43miter\u001B[39;49m\u001B[43m(\u001B[49m\u001B[43mw\u001B[49m\u001B[43m)\u001B[49m\n\u001B[0;32m     17\u001B[0m \u001B[38;5;28mprint\u001B[39m(\u001B[38;5;28mnext\u001B[39m(w_iter))\n\u001B[0;32m     18\u001B[0m \u001B[38;5;28mprint\u001B[39m(\u001B[38;5;28mnext\u001B[39m(w_iter))\n",
      "\u001B[1;31mTypeError\u001B[0m: 'type' object is not iterable"
     ]
    }
   ]
  },
  {
   "cell_type": "markdown",
   "source": [
    "# Вітаю! Ви велика(ий) молодець, що впоралась(вся). Похваліть себе та побалуйте чимось приємним. Я Вами пишаюся."
   ],
   "metadata": {
    "id": "Z3E3S_s1Fv7-"
   }
  }
 ]
}
