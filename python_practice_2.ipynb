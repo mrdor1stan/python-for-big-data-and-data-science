{
 "nbformat": 4,
 "nbformat_minor": 0,
 "metadata": {
  "colab": {
   "provenance": []
  },
  "kernelspec": {
   "name": "python3",
   "language": "python",
   "display_name": "Python 3 (ipykernel)"
  },
  "language_info": {
   "name": "python"
  }
 },
 "cells": [
  {
   "cell_type": "markdown",
   "source": [
    "# I. Змінні та памʼять."
   ],
   "metadata": {
    "id": "p9wwt0LZzNvn"
   }
  },
  {
   "cell_type": "markdown",
   "source": [
    "1. Створити змінні, що посилаються на два цілих числа, що однакові за значенням, де значення належить проміжку від -5 до 256. Перевірте, чи будуть ці змінні рівні тільки за значенням або ж ще будуть посилатися на один і той самий обʼєкт в памʼяті? Наведіть код та дайте текстову відповідь нижче."
   ],
   "metadata": {
    "id": "HTJrrm95xSV9"
   }
  },
  {
   "cell_type": "code",
   "execution_count": null,
   "metadata": {
    "id": "TATni2vzayjG"
   },
   "outputs": [],
   "source": [
    "a = 93\n",
    "b = 93\n",
    "print(id(a))\n",
    "print(id(b))\n",
    "print(id(a) == id(b))"
   ]
  },
  {
   "cell_type": "markdown",
   "source": [
    "**Так**, значення комірок у пам'яті однакові"
   ],
   "metadata": {
    "collapsed": false
   }
  },
  {
   "cell_type": "markdown",
   "source": [
    "2. За допомогою якої функції можна перевірити належність змінної до вказаного типу даних (напр. чи змінна True посилається на значення булевого та цілочисленого типу)?"
   ],
   "metadata": {
    "id": "ISORzt6M3vAt"
   }
  },
  {
   "cell_type": "code",
   "source": [
    "print(isinstance(True, int))\n",
    "print(isinstance(True, bool))"
   ],
   "metadata": {
    "id": "9vL9CFaMbfyo"
   },
   "execution_count": null,
   "outputs": []
  },
  {
   "cell_type": "markdown",
   "source": [
    "# II. Цілі числа та числа з рухомою комою"
   ],
   "metadata": {
    "id": "tRxugKAxwYLw"
   }
  },
  {
   "cell_type": "markdown",
   "source": [
    "3. Створити дві змінні, що посилаються на будь-які ціле число та число з рухомою комою та продемонструвати такі арифметичні операції: додавання, віднімання, ділення, множення, ділення без залишку, ділення по модулю, приведення до ступеню. Всі результати операцій вивести на екран."
   ],
   "metadata": {
    "id": "NLHkgd5Gybc8"
   }
  },
  {
   "cell_type": "code",
   "source": [
    "a = 17\n",
    "b = 4.93\n",
    "\n",
    "print(\"додавання:\", a + b)\n",
    "print(\"віднімання:\", a - b)\n",
    "print(\"ділення:\", a / b)\n",
    "print(\"множення:\", a * b)\n",
    "print(\"ділення без залишку:\", a // b)\n",
    "print(\"ділення по модулю:\", a % b)\n",
    "print(\"приведення до ступеню:\", a ** b)\n"
   ],
   "metadata": {
    "id": "nb8u_3pjb2cA"
   },
   "execution_count": null,
   "outputs": []
  },
  {
   "cell_type": "markdown",
   "source": [
    "4. Використовуючи змінні з вправи 3, продемонструйте механізм явного перетворення типів, де числа з рухомою комою перетворюються на цілі числа. Також визначте змінну, що посилається на значення булевого типу і спробуйте явно привести її до цілого числа."
   ],
   "metadata": {
    "id": "1kBClKgPzZnC"
   }
  },
  {
   "cell_type": "code",
   "source": [
    "print(float(a))\n",
    "c = int(True)\n",
    "print(c)\n",
    "c = int(False)\n",
    "print(c)\n"
   ],
   "metadata": {
    "id": "TbqJbkeUcKsD"
   },
   "execution_count": null,
   "outputs": []
  },
  {
   "cell_type": "markdown",
   "source": [
    "# IІІ. Рядки (String)."
   ],
   "metadata": {
    "id": "EVJ7AflwxrZi"
   }
  },
  {
   "cell_type": "markdown",
   "source": [
    "5. Створити пустий рядок двома різними способами."
   ],
   "metadata": {
    "id": "_s5ECzz9zE61"
   }
  },
  {
   "cell_type": "code",
   "source": [
    "empty_line_1 = \"\"\n",
    "empty_line_2 = str()\n",
    "\n",
    "print(empty_line_1)\n",
    "print(empty_line_2)"
   ],
   "metadata": {
    "id": "fkZJHu9Scvc-"
   },
   "execution_count": null,
   "outputs": []
  },
  {
   "cell_type": "markdown",
   "source": [
    "6. Створити рядок з апострофом. Зробити його сирим. Вивести обидва рядка на екран."
   ],
   "metadata": {
    "id": "4Bdn9J3MzLf_"
   }
  },
  {
   "cell_type": "code",
   "source": [
    "string = 'here\\'s an apostrophe'\n",
    "raw_string = r'here\\'s an apostrophe'\n",
    "print(string)\n",
    "print(raw_string)"
   ],
   "metadata": {
    "id": "ivji_hsmc0GH"
   },
   "execution_count": null,
   "outputs": []
  },
  {
   "cell_type": "markdown",
   "source": [
    "7. Створити змінну, що буде посилатися на Ваше прізвище латинкою. Створити форматований рядок, який буде мати вигляд \"My surname is ______\", де на місці нижніх підкреслень буде Ваше прізвище зі змінної."
   ],
   "metadata": {
    "id": "bg_d8wM4z8dS"
   }
  },
  {
   "cell_type": "code",
   "source": [
    "last_name = \"Orlov\"\n",
    "f\"My name is {last_name}\""
   ],
   "metadata": {
    "id": "kuxFgpWndACq"
   },
   "execution_count": null,
   "outputs": []
  },
  {
   "cell_type": "markdown",
   "source": [
    "8. Маючи рядок \"My dog is crazy.\" перетворити його на список [\"my\", \"dog\", \"is\", \"crazy\"]"
   ],
   "metadata": {
    "id": "1Nc6RqvQ0hxU"
   }
  },
  {
   "cell_type": "code",
   "source": [
    "\"My dog is crazy.\".lower()[0:-1].split(' ')"
   ],
   "metadata": {
    "id": "w1Ya4RqedUhw"
   },
   "execution_count": null,
   "outputs": []
  },
  {
   "cell_type": "markdown",
   "source": [
    "# IV. Робота зі списками."
   ],
   "metadata": {
    "id": "GYVqN9uP1D4n"
   }
  },
  {
   "cell_type": "markdown",
   "source": [
    "9. Створити список двома різними за синтаксисом способами. За допомогою вбудованої функції обчисліть довжину одного з них."
   ],
   "metadata": {
    "id": "7-DeDunw2sO-"
   }
  },
  {
   "cell_type": "code",
   "source": [
    "str1 = \"https://youtu.be/dQw4w9WgXcQ\"\n",
    "\n",
    "str2 = \"\"\"\n",
    "[Intro]\n",
    "Desert you\n",
    "Ooh-ooh-ooh-ooh\n",
    "Hurt you\n",
    "\n",
    "[Verse 1]\n",
    "We're no strangers to love\n",
    "You know the rules and so do I (Do I)\n",
    "A full commitment's what I'm thinking of\n",
    "You wouldn't get this from any other guy\n",
    "\n",
    "[Pre-Chorus]\n",
    "I just wanna tell you how I'm feeling\n",
    "Gotta make you understand\n",
    "\n",
    "[Chorus]\n",
    "Never gonna give you up\n",
    "Never gonna let you down\n",
    "Never gonna run around and desert you\n",
    "Never gonna make you cry\n",
    "Never gonna say goodbye\n",
    "Never gonna tell a lie and hurt you\n",
    "\n",
    "[Verse 2]\n",
    "We've known each other for so long\n",
    "Your heart's been aching, but you're too shy to say it (To say it)\n",
    "Inside, we both know what's been going on (Going on)\n",
    "We know the game, and we're gonna play it\n",
    "\n",
    "[Pre-Chorus]\n",
    "And if you ask me how I'm feeling\n",
    "Don't tell me you're too blind to see\n",
    "\n",
    "[Chorus]\n",
    "Never gonna give you up\n",
    "Never gonna let you down\n",
    "Never gonna run around and desert you\n",
    "Never gonna make you cry\n",
    "Never gonna say goodbye\n",
    "Never gonna tell a lie and hurt you\n",
    "Never gonna give you up\n",
    "Never gonna let you down\n",
    "Never gonna run around and desert you\n",
    "Never gonna make you cry\n",
    "Never gonna say goodbye\n",
    "Never gonna tell a lie and hurt you\n",
    "\n",
    "[Bridge]\n",
    "Ooh (Give you up)\n",
    "Ooh-ooh (Give you up)\n",
    "Ooh-ooh\n",
    "Never gonna give, never gonna give (Give you up)\n",
    "Ooh-ooh\n",
    "Never gonna give, never gonna give (Give you up)\n",
    "\n",
    "[Verse 2]\n",
    "We've known each other for so long\n",
    "Your heart's been aching, but you're too shy to say it (To say it)\n",
    "Inside, we both know what's been going on (Going on)\n",
    "We know the game, and we're gonna play it\n",
    "\n",
    "[Pre-Chorus]\n",
    "I just wanna tell you how I'm feeling\n",
    "Gotta make you understand\n",
    "\n",
    "[Chorus]\n",
    "Never gonna give you up\n",
    "Never gonna let you down\n",
    "Never gonna run around and desert you\n",
    "Never gonna make you cry\n",
    "Never gonna say goodbye\n",
    "Never gonna tell a lie and hurt you\n",
    "Never gonna give you up\n",
    "Never gonna let you down\n",
    "Never gonna run around and desert you\n",
    "Never gonna make you cry\n",
    "Never gonna say goodbye\n",
    "Never gonna tell a lie and hurt you\n",
    "Never gonna give you up\n",
    "Never gonna let you down\n",
    "Never gonna run around and desert you\n",
    "Never gonna make you cry\n",
    "Never gonna say goodbye\n",
    "Never gonna tell a lie and hurt you\n",
    "\"\"\"\n",
    "\n",
    "len(str2)"
   ],
   "metadata": {
    "id": "zxg06Uuxdyoh"
   },
   "execution_count": null,
   "outputs": []
  },
  {
   "cell_type": "markdown",
   "source": [
    "10. Створіть два списка та за допомогою спеціального методу додайте другий з них в якості останнього елемента першого."
   ],
   "metadata": {
    "id": "8vmGUTjL22gI"
   }
  },
  {
   "cell_type": "code",
   "source": [
    "list1 = ['wow', 'what', 'is']\n",
    "list2 = ['this']\n",
    "list1.append(list2)\n",
    "list1"
   ],
   "metadata": {
    "id": "uHtjWYw7d7hm"
   },
   "execution_count": null,
   "outputs": []
  },
  {
   "cell_type": "markdown",
   "source": [
    "11. Створіть список, де елементами цього списку також є списки. Отримай перший елемент з останнього рядка та виведи значення на екран."
   ],
   "metadata": {
    "id": "JC3BkD-67_--"
   }
  },
  {
   "cell_type": "code",
   "source": [
    "list = ['wow', 'what', 'is', 'this']\n",
    "list[-1][0]"
   ],
   "metadata": {
    "id": "Kz2jZHsGeLlz"
   },
   "execution_count": null,
   "outputs": []
  },
  {
   "cell_type": "markdown",
   "source": [
    "12. Створіть список з десяти елементів різного типу. Отримайте всі елементи, окрім двох перших та двох останніх та збережіть їх в новій змінній."
   ],
   "metadata": {
    "id": "JA47PKTv8zFK"
   }
  },
  {
   "cell_type": "code",
   "source": [
    "list = [True, 10, {1: \"empty\"}, None, [1, 2, 3], \"cool\", 4.93, 1 + 7j, (1, 2, 3), {1, 2, 3}]\n",
    "new_list = list[2:-2]"
   ],
   "metadata": {
    "id": "_rHdUR-ueP4-"
   },
   "execution_count": null,
   "outputs": []
  },
  {
   "cell_type": "markdown",
   "source": [
    "# V. Робота з кортежами."
   ],
   "metadata": {
    "id": "pCjR1dJb1Qbi"
   }
  },
  {
   "cell_type": "markdown",
   "source": [
    "14. Створити кортеж з один елементом."
   ],
   "metadata": {
    "id": "fAZCxAX06R_k"
   }
  },
  {
   "cell_type": "code",
   "source": [
    "(3,)"
   ],
   "metadata": {
    "id": "H7d82WkQev3e"
   },
   "execution_count": null,
   "outputs": []
  },
  {
   "cell_type": "markdown",
   "source": [
    "15. Порівняйте список та кортеж. Назвіть схожості та відмінності, випадки використання."
   ],
   "metadata": {
    "id": "8LCtYcmI6w1M"
   }
  },
  {
   "cell_type": "markdown",
   "source": [
    "Кортеж є незмінним об'єктом, тоді як списки є змінними. Щодо схожостей, вони використовуються для зберігання даних, позначаються дужками і їхніми елементами можна ітеруватися в циклі."
   ],
   "metadata": {
    "id": "fUsN1Hnue0C6"
   }
  },
  {
   "cell_type": "markdown",
   "source": [
    "16. Створіть кортеж з 11ти елементів чисел з рухомою комою та отримайте кожен парний за індексом елемент в зворотньому порядку. Наприклад, маючи (1.2, 2.3, 3.3, 4.3, 5.3, 6.3, 7.3, 8.3, 9.3, 0.3), отримати (0.3, 8.3, 6.3, 4.3, 2.3). Результат збережіть в нову змінну та виведіть на екран."
   ],
   "metadata": {
    "id": "m0xrwFijAmDD"
   }
  },
  {
   "cell_type": "code",
   "source": [
    "og_tuple = (1.2, 2.3, 3.3, 4.3, 5.3, 6.3, 7.3, 8.3, 9.3, 0.3)\n",
    "og_tuple[::-2]"
   ],
   "metadata": {
    "id": "p-5DAH6XfAGA"
   },
   "execution_count": null,
   "outputs": []
  },
  {
   "cell_type": "markdown",
   "source": [
    "# VI. Множини (Set)."
   ],
   "metadata": {
    "id": "rW_I9dt3x6cW"
   }
  },
  {
   "cell_type": "markdown",
   "source": [
    "17. Створити множину без елементів. Після цого за допомогою методу додайте кілька різних елементів до множини. Чи множини є змінним типом даних?"
   ],
   "metadata": {
    "id": "zNjRLHLw1Bgg"
   }
  },
  {
   "cell_type": "code",
   "source": [
    "empty_set = set\n",
    "set_initial_id = id(empty_set)\n",
    "empty_set.add(1)\n",
    "empty_set.add(2)\n",
    "empty_set.add(3)\n",
    "print(empty_set)\n",
    "id(empty_set) == set_initial_id"
   ],
   "metadata": {
    "id": "KOv7zc2Kfo4N",
    "ExecuteTime": {
     "end_time": "2025-02-21T14:08:56.545786100Z",
     "start_time": "2025-02-21T14:08:56.476109400Z"
    }
   },
   "execution_count": 19,
   "outputs": [
    {
     "data": {
      "text/plain": "True"
     },
     "execution_count": 19,
     "metadata": {},
     "output_type": "execute_result"
    }
   ]
  },
  {
   "cell_type": "markdown",
   "source": [
    "Так, множини є змінним типом даних, адже об'єкт зберігає свій початковий id, отже не перестворюється при зміні"
   ],
   "metadata": {
    "id": "vxS6dVYiftZQ"
   }
  },
  {
   "cell_type": "markdown",
   "source": [
    "18. Створити множину, маючи список my_list = [1, 1, 2, 67, 67, 8, 9]. Пояснити, чому \"зникли\" деякі елементи."
   ],
   "metadata": {
    "id": "gHpT0Zw_1HEF"
   }
  },
  {
   "cell_type": "code",
   "source": [
    "my_list = [1, 1, 2, 67, 67, 8, 9]\n",
    "{a for a in my_list}"
   ],
   "metadata": {
    "id": "qCN4uvJ_fxmu",
    "ExecuteTime": {
     "end_time": "2025-02-21T14:11:23.477895200Z",
     "start_time": "2025-02-21T14:11:23.428782400Z"
    }
   },
   "execution_count": 20,
   "outputs": [
    {
     "data": {
      "text/plain": "{1, 2, 8, 9, 67}"
     },
     "execution_count": 20,
     "metadata": {},
     "output_type": "execute_result"
    }
   ]
  },
  {
   "cell_type": "markdown",
   "source": [
    "Множина допускає лише унікальні елементи, тому уникає дублікатів"
   ],
   "metadata": {
    "id": "tFNc1e20fyny"
   }
  },
  {
   "cell_type": "markdown",
   "source": [
    "19. Створіть дві множини. Продемонстуйте над ними операції: обʼєднання, різниці, перетину та симетричної різниці. Використовуйте методи, що не змінюють множини, а створюють нові."
   ],
   "metadata": {
    "id": "SRMkGizS1UwY"
   }
  },
  {
   "cell_type": "code",
   "source": [
    "set_1 = {1, 2, 3, 4}\n",
    "set_2 = {6, 5, 3, 4}\n",
    "\n",
    "print(set_1.union(set_2))\n",
    "print(set_1.difference(set_2))\n",
    "print(set_1.intersection(set_2))\n",
    "print(set_1.symmetric_difference(set_2))"
   ],
   "metadata": {
    "id": "h0T-VuDnf3Ri",
    "ExecuteTime": {
     "end_time": "2025-02-21T14:14:57.018916Z",
     "start_time": "2025-02-21T14:14:56.957411300Z"
    }
   },
   "execution_count": 21,
   "outputs": [
    {
     "name": "stdout",
     "output_type": "stream",
     "text": [
      "{3, 4}\n",
      "{1, 2, 3, 4, 5, 6}\n",
      "{1, 2}\n",
      "{1, 2, 5, 6}\n"
     ]
    }
   ]
  },
  {
   "cell_type": "markdown",
   "source": [
    "# VII. Словники (Dictionary)."
   ],
   "metadata": {
    "id": "kWc8gkzTx7Ea"
   }
  },
  {
   "cell_type": "markdown",
   "source": [
    "20. Створіть пустий словник. До нього додайте чотири пари елементів такі, щоб їхні ключі були різних типів. Чи може список бути ключем? Чому?"
   ],
   "metadata": {
    "id": "i5FLwj-B2ybQ"
   }
  },
  {
   "cell_type": "code",
   "source": [
    "dict = {}\n",
    "dict[None] = 1\n",
    "dict[\"str\"] = 2\n",
    "dict[3] = 3\n",
    "dict[True] = 4\n",
    "dict"
   ],
   "metadata": {
    "id": "hxgv3BzrgLAV",
    "ExecuteTime": {
     "end_time": "2025-02-21T14:18:03.302609200Z",
     "start_time": "2025-02-21T14:18:03.210437300Z"
    }
   },
   "execution_count": 23,
   "outputs": [
    {
     "data": {
      "text/plain": "{None: 1, 'str': 2, 3: 3, True: 4}"
     },
     "execution_count": 23,
     "metadata": {},
     "output_type": "execute_result"
    }
   ]
  },
  {
   "cell_type": "markdown",
   "source": [
    "Список не може бути ключем, бо його не можна загешувати"
   ],
   "metadata": {
    "id": "zwa7UVN-gR3m"
   }
  },
  {
   "cell_type": "markdown",
   "source": [
    "21. Створіть словник, де значенням в одній з пар теж буде словник, який теж має вкладений словник. Виведіть на екран значення, що міститься в словнику, що знаходиться на найнижчому рівні ієрархії вкладеності (найбільш внутрішній)."
   ],
   "metadata": {
    "id": "WM_pMlJsgoNf"
   }
  },
  {
   "cell_type": "code",
   "source": [
    "dict = {1 : {2 : {3 : \"this is scary\"}}}\n",
    "print(dict[1][2][3])"
   ],
   "metadata": {
    "id": "60dlP7IHhAy4",
    "ExecuteTime": {
     "end_time": "2025-02-21T14:19:51.135284900Z",
     "start_time": "2025-02-21T14:19:51.106683600Z"
    }
   },
   "execution_count": 25,
   "outputs": [
    {
     "name": "stdout",
     "output_type": "stream",
     "text": [
      "this is scary\n"
     ]
    }
   ]
  },
  {
   "cell_type": "markdown",
   "source": [
    "# Вітаю! Ви велика(ий) молодець, що впоралась(вся). Похваліть себе та побалуйте чимось приємним. Я Вами пишаюся."
   ],
   "metadata": {
    "id": "xOZP0hkx6cCr"
   }
  }
 ]
}
